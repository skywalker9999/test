{
 "cells": [
  {
   "cell_type": "markdown",
   "metadata": {},
   "source": [
    "# Homework 3 "
   ]
  },
  {
   "cell_type": "markdown",
   "metadata": {},
   "source": [
    "# Option #1"
   ]
  },
  {
   "cell_type": "code",
   "execution_count": 2,
   "metadata": {},
   "outputs": [],
   "source": [
    "#Importing all the useful libraries\n",
    "import pandas as pd\n",
    "import numpy as np\n",
    "#import matplotlib\n",
    "import matplotlib.pyplot as plt\n"
   ]
  },
  {
   "cell_type": "code",
   "execution_count": 15,
   "metadata": {},
   "outputs": [
    {
     "data": {
      "text/plain": [
       "Agency Name                object\n",
       "Location Name              object\n",
       "Address                    object\n",
       "City                       object\n",
       "Zip code                    int64\n",
       "County                     object\n",
       "Congress Dist               int64\n",
       "Congressional Full Name    object\n",
       "Rep Dist                    int64\n",
       "Rep Full Name              object\n",
       "Senate Dist                 int64\n",
       "Senator Full Name          object\n",
       "Bldg Status                object\n",
       "Year Acquired               int64\n",
       "Year Constructed            int64\n",
       "Square Footage              int64\n",
       "Total Floors                int64\n",
       "Floors Above Grade          int64\n",
       "Floors Below Grade          int64\n",
       "Usage Description          object\n",
       "Usage Description 2        object\n",
       "Usage Description 3        object\n",
       "dtype: object"
      ]
     },
     "execution_count": 15,
     "metadata": {},
     "output_type": "execute_result"
    }
   ],
   "source": [
    "df = pd.read_csv(\"IL_Building_Inventory.csv\")\n",
    "df.head()\n",
    "df.columns\n",
    "df.dtypes"
   ]
  },
  {
   "cell_type": "code",
   "execution_count": null,
   "metadata": {},
   "outputs": [],
   "source": [
    "df = pd.read_csv(\"IL_Building_Inventory.csv\",na_values = {'Year Acquired': 0, 'Year Constructed': 0, 'Square Footage': 0})"
   ]
  },
  {
   "cell_type": "code",
   "execution_count": null,
   "metadata": {},
   "outputs": [],
   "source": [
    "df"
   ]
  },
  {
   "cell_type": "code",
   "execution_count": null,
   "metadata": {},
   "outputs": [],
   "source": [
    "df[\"Agency Name\"].nunique()\n"
   ]
  },
  {
   "cell_type": "code",
   "execution_count": 7,
   "metadata": {},
   "outputs": [],
   "source": [
    "df_clean = df.dropna()"
   ]
  },
  {
   "cell_type": "code",
   "execution_count": null,
   "metadata": {},
   "outputs": [],
   "source": [
    "df_clean.isna() #dropping all the rows with na values in any column "
   ]
  },
  {
   "cell_type": "markdown",
   "metadata": {},
   "source": [
    "<h4>Question 1 : Relationship between the year acquired and the year constructed \n",
    "\n"
   ]
  },
  {
   "cell_type": "markdown",
   "metadata": {},
   "source": [
    "Before drawing the image I expected that it will be a mostly linear."
   ]
  },
  {
   "cell_type": "code",
   "execution_count": null,
   "metadata": {},
   "outputs": [],
   "source": [
    " # Approach 1 \n",
    "    \n",
    "color_diff = np.where(df_clean['Year Acquired']!=df_clean['Year Constructed'],'r',np.where(df_clean['Year Acquired']==df_clean['Year Constructed'],'g','r'))\n",
    "graph = df_clean.plot(x=\"Year Acquired\",y = \"Year Constructed\",figsize=(10,10), c = color_diff , kind=\"scatter\" , title=\"Acquired year VS Construction year\")\n",
    "\n",
    "#color_diff\n"
   ]
  },
  {
   "cell_type": "code",
   "execution_count": null,
   "metadata": {},
   "outputs": [],
   "source": [
    "\"\"\"#Approach 2 \n",
    "color_diff = np.where(df_clean['Year Acquired']!=df_clean['Year Constructed'],'r'\n",
    "                      ,np.where(df_clean['Year Acquired']==df_clean['Year Constructed'],'g','r'))\n",
    "plt.scatter(df_clean['Year Acquired'], df_clean['Year Constructed'], c = color_diff, marker = '.',label = 'Acquired year VS Construction year')\n",
    "plt.xlabel('Year Acquried')\n",
    "plt.ylabel('Year Constructed')\n",
    "plt.legend()\n",
    "\"\"\""
   ]
  },
  {
   "cell_type": "markdown",
   "metadata": {},
   "source": [
    "We can see a clear linear trend in the graph depecticed by the green line. \n",
    "However, there are a lot of data points where the acquired year is not same as the constuction year. Those points are plotted in red for clear distinction. \n",
    "This visualization does well in capturing and differentiating between regular linear points (green) and stray point (red) "
   ]
  },
  {
   "cell_type": "markdown",
   "metadata": {},
   "source": [
    "<h4>Question 2 : Total square footage as a function of congressional district (\"Congress Dist\")"
   ]
  },
  {
   "cell_type": "code",
   "execution_count": null,
   "metadata": {},
   "outputs": [],
   "source": [
    "congbu=df_clean.groupby(\"Congress Dist\")['Square Footage'].sum()\n",
    "congbu"
   ]
  },
  {
   "cell_type": "code",
   "execution_count": null,
   "metadata": {},
   "outputs": [],
   "source": [
    "fig, ax = plt.subplots(figsize=(20,10))\n",
    "\n",
    "ax.plot(congbu, marker='.', linewidth=2.0 , label = 'Total square footage for each dist')\n",
    "ax.set_xlabel('Congress Dist') # year acquired, shorthanded to \"year\"\n",
    "ax.set_ylabel('Square Footage')\n"
   ]
  },
  {
   "cell_type": "code",
   "execution_count": null,
   "metadata": {},
   "outputs": [],
   "source": [
    "plt.bar(congbu.index, congbu.values)\n",
    "plt.xlabel('Congressional District')\n",
    "plt.ylabel('Total Square Footage')\n",
    "plt.show()"
   ]
  },
  {
   "cell_type": "markdown",
   "metadata": {},
   "source": [
    "The above visualization caputres the Total square footage as a function of congressional district. It is line plot and the bar plot are 2 different visuals for same task. \n",
    "\n",
    "Success : The bar graph displays Total square footage for each district \n",
    "\n",
    "Shortcoming : The scale on y axis is in 10 power 7. It is not very easy to understand "
   ]
  },
  {
   "cell_type": "markdown",
   "metadata": {},
   "source": [
    "<h4> Question 3 : Average square footage per floor as a function of congressional district"
   ]
  },
  {
   "cell_type": "code",
   "execution_count": 26,
   "metadata": {},
   "outputs": [
    {
     "data": {
      "text/html": [
       "<div>\n",
       "<style scoped>\n",
       "    .dataframe tbody tr th:only-of-type {\n",
       "        vertical-align: middle;\n",
       "    }\n",
       "\n",
       "    .dataframe tbody tr th {\n",
       "        vertical-align: top;\n",
       "    }\n",
       "\n",
       "    .dataframe thead th {\n",
       "        text-align: right;\n",
       "    }\n",
       "</style>\n",
       "<table border=\"1\" class=\"dataframe\">\n",
       "  <thead>\n",
       "    <tr style=\"text-align: right;\">\n",
       "      <th></th>\n",
       "      <th>Square Footage</th>\n",
       "      <th>Total Floors</th>\n",
       "      <th>Square Footage per floor</th>\n",
       "    </tr>\n",
       "    <tr>\n",
       "      <th>Congress Dist</th>\n",
       "      <th></th>\n",
       "      <th></th>\n",
       "      <th></th>\n",
       "    </tr>\n",
       "  </thead>\n",
       "  <tbody>\n",
       "    <tr>\n",
       "      <th>1</th>\n",
       "      <td>2347969</td>\n",
       "      <td>133</td>\n",
       "      <td>17653.902256</td>\n",
       "    </tr>\n",
       "    <tr>\n",
       "      <th>2</th>\n",
       "      <td>6077683</td>\n",
       "      <td>637</td>\n",
       "      <td>9541.103611</td>\n",
       "    </tr>\n",
       "    <tr>\n",
       "      <th>3</th>\n",
       "      <td>1293687</td>\n",
       "      <td>72</td>\n",
       "      <td>17967.875000</td>\n",
       "    </tr>\n",
       "    <tr>\n",
       "      <th>4</th>\n",
       "      <td>311021</td>\n",
       "      <td>20</td>\n",
       "      <td>15551.050000</td>\n",
       "    </tr>\n",
       "    <tr>\n",
       "      <th>5</th>\n",
       "      <td>1809022</td>\n",
       "      <td>113</td>\n",
       "      <td>16009.044248</td>\n",
       "    </tr>\n",
       "    <tr>\n",
       "      <th>6</th>\n",
       "      <td>145659</td>\n",
       "      <td>28</td>\n",
       "      <td>5202.107143</td>\n",
       "    </tr>\n",
       "    <tr>\n",
       "      <th>7</th>\n",
       "      <td>9199651</td>\n",
       "      <td>516</td>\n",
       "      <td>17828.781008</td>\n",
       "    </tr>\n",
       "    <tr>\n",
       "      <th>8</th>\n",
       "      <td>1457719</td>\n",
       "      <td>310</td>\n",
       "      <td>4702.319355</td>\n",
       "    </tr>\n",
       "    <tr>\n",
       "      <th>9</th>\n",
       "      <td>77978</td>\n",
       "      <td>11</td>\n",
       "      <td>7088.909091</td>\n",
       "    </tr>\n",
       "    <tr>\n",
       "      <th>10</th>\n",
       "      <td>923441</td>\n",
       "      <td>210</td>\n",
       "      <td>4397.338095</td>\n",
       "    </tr>\n",
       "    <tr>\n",
       "      <th>11</th>\n",
       "      <td>3467894</td>\n",
       "      <td>411</td>\n",
       "      <td>8437.698297</td>\n",
       "    </tr>\n",
       "    <tr>\n",
       "      <th>12</th>\n",
       "      <td>12300813</td>\n",
       "      <td>2316</td>\n",
       "      <td>5311.231865</td>\n",
       "    </tr>\n",
       "    <tr>\n",
       "      <th>13</th>\n",
       "      <td>30918613</td>\n",
       "      <td>2799</td>\n",
       "      <td>11046.306895</td>\n",
       "    </tr>\n",
       "    <tr>\n",
       "      <th>14</th>\n",
       "      <td>856288</td>\n",
       "      <td>317</td>\n",
       "      <td>2701.223975</td>\n",
       "    </tr>\n",
       "    <tr>\n",
       "      <th>15</th>\n",
       "      <td>7058617</td>\n",
       "      <td>1850</td>\n",
       "      <td>3815.468649</td>\n",
       "    </tr>\n",
       "    <tr>\n",
       "      <th>16</th>\n",
       "      <td>8704041</td>\n",
       "      <td>1646</td>\n",
       "      <td>5287.995747</td>\n",
       "    </tr>\n",
       "    <tr>\n",
       "      <th>17</th>\n",
       "      <td>4317879</td>\n",
       "      <td>908</td>\n",
       "      <td>4755.373348</td>\n",
       "    </tr>\n",
       "    <tr>\n",
       "      <th>18</th>\n",
       "      <td>8103266</td>\n",
       "      <td>1790</td>\n",
       "      <td>4526.964246</td>\n",
       "    </tr>\n",
       "  </tbody>\n",
       "</table>\n",
       "</div>"
      ],
      "text/plain": [
       "               Square Footage  Total Floors  Square Footage per floor\n",
       "Congress Dist                                                        \n",
       "1                     2347969           133              17653.902256\n",
       "2                     6077683           637               9541.103611\n",
       "3                     1293687            72              17967.875000\n",
       "4                      311021            20              15551.050000\n",
       "5                     1809022           113              16009.044248\n",
       "6                      145659            28               5202.107143\n",
       "7                     9199651           516              17828.781008\n",
       "8                     1457719           310               4702.319355\n",
       "9                       77978            11               7088.909091\n",
       "10                     923441           210               4397.338095\n",
       "11                    3467894           411               8437.698297\n",
       "12                   12300813          2316               5311.231865\n",
       "13                   30918613          2799              11046.306895\n",
       "14                     856288           317               2701.223975\n",
       "15                    7058617          1850               3815.468649\n",
       "16                    8704041          1646               5287.995747\n",
       "17                    4317879           908               4755.373348\n",
       "18                    8103266          1790               4526.964246"
      ]
     },
     "execution_count": 26,
     "metadata": {},
     "output_type": "execute_result"
    }
   ],
   "source": [
    "congbuavg = df_clean.groupby('Congress Dist')['Square Footage', \"Total Floors\"].agg(sum)#/sum(\"Total Floors\")})\n",
    "                                                                                     #\"Total Floors\":np.sum()})\n",
    "congbuavg[\"Square Footage per floor\"] = congbuavg[\"Square Footage\"]/ congbuavg[\"Total Floors\"]\n",
    "#congbuavg= congbuavg[\"Square Footage per floor\"]\n",
    "congbuavg"
   ]
  },
  {
   "cell_type": "code",
   "execution_count": 31,
   "metadata": {},
   "outputs": [
    {
     "data": {
      "image/png": "[encoded data removed]",
      "text/plain": [
       "<Figure size 432x288 with 1 Axes>"
      ]
     },
     "metadata": {
      "needs_background": "light"
     },
     "output_type": "display_data"
    }
   ],
   "source": [
    "plt.bar(congbuavg.index, congbuavg[\"Square Footage per floor\"], label= \"Avg Square Footage vs Congress district\")\n",
    "plt.xlabel('Congressional District')\n",
    "plt.ylabel('Total Square Footage per floor')\n",
    "plt.show()"
   ]
  },
  {
   "cell_type": "code",
   "execution_count": 33,
   "metadata": {},
   "outputs": [
    {
     "data": {
      "text/plain": [
       "Text(0.5, 1.0, 'Avg Square Footage vs Congress district')"
      ]
     },
     "execution_count": 33,
     "metadata": {},
     "output_type": "execute_result"
    },
    {
     "data": {
      "image/png": "[encoded data removed]",
      "text/plain": [
       "<Figure size 432x288 with 1 Axes>"
      ]
     },
     "metadata": {
      "needs_background": "light"
     },
     "output_type": "display_data"
    }
   ],
   "source": [
    "fig, ax = plt.subplots(figsize=(6,4))\n",
    "ax.plot(congbuavg[\"Square Footage per floor\"], linewidth = 0.3, marker = '.',color = 'blue')\n",
    "plt.xlabel('Congress Dist')\n",
    "plt.ylabel('Average Square Footage')\n",
    "plt.title('Avg Square Footage vs Congress district')"
   ]
  },
  {
   "cell_type": "markdown",
   "metadata": {},
   "source": [
    "Overall, the plots are nice and descriptive \n",
    "\n",
    "Success : Did not face the scale issue in y axis in these plot. These are \n",
    "\n",
    "Shortcomings: These plots should be made more interactive and plotting can be done on the go for any different metrics "
   ]
  },
  {
   "cell_type": "code",
   "execution_count": null,
   "metadata": {},
   "outputs": [],
   "source": []
  }
 ],
 "metadata": {
  "kernelspec": {
   "display_name": "Python 3",
   "language": "python",
   "name": "python3"
  },
  "language_info": {
   "codemirror_mode": {
    "name": "ipython",
    "version": 3
   },
   "file_extension": ".py",
   "mimetype": "text/x-python",
   "name": "python",
   "nbconvert_exporter": "python",
   "pygments_lexer": "ipython3",
   "version": "3.7.3"
  }
 },
 "nbformat": 4,
 "nbformat_minor": 2
}
